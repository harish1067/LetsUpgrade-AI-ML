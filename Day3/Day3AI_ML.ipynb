{
  "nbformat": 4,
  "nbformat_minor": 0,
  "metadata": {
    "colab": {
      "name": "Day3AI-ML.ipynb",
      "provenance": []
    },
    "kernelspec": {
      "name": "python3",
      "display_name": "Python 3"
    }
  },
  "cells": [
    {
      "cell_type": "markdown",
      "metadata": {
        "id": "6Q4J539m6lKV",
        "colab_type": "text"
      },
      "source": [
        "# AI-ML Assignment Day 3"
      ]
    },
    {
      "cell_type": "markdown",
      "metadata": {
        "id": "lr8sytcP63zI",
        "colab_type": "text"
      },
      "source": [
        "Program 1"
      ]
    },
    {
      "cell_type": "code",
      "metadata": {
        "id": "tl7vjRUm6gbI",
        "colab_type": "code",
        "colab": {
          "base_uri": "https://localhost:8080/",
          "height": 34
        },
        "outputId": "6686bd20-70fa-4e25-a245-8cce3c72c1e8"
      },
      "source": [
        "a = 2+3j\n",
        "b = 3+5j\n",
        "c = a+b\n",
        "print(c)"
      ],
      "execution_count": 2,
      "outputs": [
        {
          "output_type": "stream",
          "text": [
            "(5+8j)\n"
          ],
          "name": "stdout"
        }
      ]
    },
    {
      "cell_type": "markdown",
      "metadata": {
        "id": "mcXQfhyK7N0L",
        "colab_type": "text"
      },
      "source": [
        "Program 2"
      ]
    },
    {
      "cell_type": "code",
      "metadata": {
        "id": "RGRjvXpV7PKq",
        "colab_type": "code",
        "colab": {
          "base_uri": "https://localhost:8080/",
          "height": 34
        },
        "outputId": "7e4a993c-b51f-4f85-d6fa-7bef84900272"
      },
      "source": [
        "a = 16\n",
        "b = 16**0.25\n",
        "print(b)"
      ],
      "execution_count": 3,
      "outputs": [
        {
          "output_type": "stream",
          "text": [
            "2.0\n"
          ],
          "name": "stdout"
        }
      ]
    },
    {
      "cell_type": "markdown",
      "metadata": {
        "id": "uR888G537YEr",
        "colab_type": "text"
      },
      "source": [
        "Program 3"
      ]
    },
    {
      "cell_type": "code",
      "metadata": {
        "id": "HKGI6YE57ZaX",
        "colab_type": "code",
        "colab": {
          "base_uri": "https://localhost:8080/",
          "height": 51
        },
        "outputId": "a0c7da5e-f1a6-4dec-e4cb-f07031646988"
      },
      "source": [
        "a = 3\n",
        "b = 7\n",
        "temporary = a\n",
        "a = b\n",
        "b = temporary\n",
        "print(a)\n",
        "print(b)"
      ],
      "execution_count": 4,
      "outputs": [
        {
          "output_type": "stream",
          "text": [
            "7\n",
            "3\n"
          ],
          "name": "stdout"
        }
      ]
    },
    {
      "cell_type": "markdown",
      "metadata": {
        "id": "FpIGegtL7-z4",
        "colab_type": "text"
      },
      "source": [
        "Program 4"
      ]
    },
    {
      "cell_type": "code",
      "metadata": {
        "id": "zxWud0dX8ANb",
        "colab_type": "code",
        "colab": {
          "base_uri": "https://localhost:8080/",
          "height": 51
        },
        "outputId": "66afa64e-c68b-46c9-dd33-4c8de5b1fb38"
      },
      "source": [
        "a = 5\n",
        "b = 10\n",
        "(a,b) = (b,a)\n",
        "print(a)\n",
        "print(b)"
      ],
      "execution_count": 5,
      "outputs": [
        {
          "output_type": "stream",
          "text": [
            "10\n",
            "5\n"
          ],
          "name": "stdout"
        }
      ]
    },
    {
      "cell_type": "markdown",
      "metadata": {
        "id": "NhxL1DjM8K6_",
        "colab_type": "text"
      },
      "source": [
        "Program 5"
      ]
    },
    {
      "cell_type": "code",
      "metadata": {
        "id": "9lDJJ_Dg8NaW",
        "colab_type": "code",
        "colab": {
          "base_uri": "https://localhost:8080/",
          "height": 51
        },
        "outputId": "06507771-9328-4e71-89fc-9369859b48f9"
      },
      "source": [
        "fahrenheit = 44\n",
        "celsius = (fahrenheit-32)*(5/9)\n",
        "print(celsius)\n",
        "kelvin = celsius + 273\n",
        "print(kelvin)"
      ],
      "execution_count": 6,
      "outputs": [
        {
          "output_type": "stream",
          "text": [
            "6.666666666666667\n",
            "279.6666666666667\n"
          ],
          "name": "stdout"
        }
      ]
    },
    {
      "cell_type": "markdown",
      "metadata": {
        "id": "_OL54Bb08rFd",
        "colab_type": "text"
      },
      "source": [
        "Program 6"
      ]
    },
    {
      "cell_type": "code",
      "metadata": {
        "id": "3UZGt2yu8se3",
        "colab_type": "code",
        "colab": {
          "base_uri": "https://localhost:8080/",
          "height": 136
        },
        "outputId": "b3ba9316-eeb7-4bd2-9c33-d50cacca88b1"
      },
      "source": [
        "a = 'random'\n",
        "print(type(a))\n",
        "b = 12\n",
        "print(type(b))\n",
        "c = 13.1\n",
        "print(type(c))\n",
        "d = (12,56,78)\n",
        "print(type(d))\n",
        "e = {23,45,78}\n",
        "print(type(e))\n",
        "f = [34,58,45]\n",
        "print(type(f))\n",
        "g = {'x':'jay','y':'tejas'}\n",
        "print(type(g))"
      ],
      "execution_count": 7,
      "outputs": [
        {
          "output_type": "stream",
          "text": [
            "<class 'str'>\n",
            "<class 'int'>\n",
            "<class 'float'>\n",
            "<class 'tuple'>\n",
            "<class 'set'>\n",
            "<class 'list'>\n",
            "<class 'dict'>\n"
          ],
          "name": "stdout"
        }
      ]
    },
    {
      "cell_type": "markdown",
      "metadata": {
        "id": "CxViy2iN9lNN",
        "colab_type": "text"
      },
      "source": [
        "Program 7"
      ]
    },
    {
      "cell_type": "markdown",
      "metadata": {
        "id": "S-nN2wlT93fj",
        "colab_type": "text"
      },
      "source": [
        "`**Firstly, Open the official website of Github and make a new account on it. Set a new username, password and then signup on Github. This creates your Github profile. Every time the assignment is completed, upload that assignment on Github by making a new folder in repository. Copy the link of assignment uploaded in Github and paste it in google form.**`"
      ]
    }
  ]
}