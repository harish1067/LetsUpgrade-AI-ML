{
  "nbformat": 4,
  "nbformat_minor": 0,
  "metadata": {
    "colab": {
      "name": "Day4AI-ML.ipynb",
      "provenance": []
    },
    "kernelspec": {
      "name": "python3",
      "display_name": "Python 3"
    }
  },
  "cells": [
    {
      "cell_type": "markdown",
      "metadata": {
        "id": "22nKcuF6AFbE",
        "colab_type": "text"
      },
      "source": [
        "# Assignment Day 4 AI-ML"
      ]
    },
    {
      "cell_type": "markdown",
      "metadata": {
        "id": "sCgoAiS6ANVQ",
        "colab_type": "text"
      },
      "source": [
        "Program 1"
      ]
    },
    {
      "cell_type": "code",
      "metadata": {
        "id": "VQa_hu_FADbe",
        "colab_type": "code",
        "colab": {
          "base_uri": "https://localhost:8080/",
          "height": 85
        },
        "outputId": "2df2d4c3-fd77-43fb-8f4d-1c40a48e548e"
      },
      "source": [
        "a = 2+3j\n",
        "b = 4+5j\n",
        "print(a+b)\n",
        "print(a-b)\n",
        "print(a*b)\n",
        "print(a/b)"
      ],
      "execution_count": 1,
      "outputs": [
        {
          "output_type": "stream",
          "text": [
            "(6+8j)\n",
            "(-2-2j)\n",
            "(-7+22j)\n",
            "(0.5609756097560976+0.0487804878048781j)\n"
          ],
          "name": "stdout"
        }
      ]
    },
    {
      "cell_type": "code",
      "metadata": {
        "id": "PSecStBtAzNd",
        "colab_type": "code",
        "colab": {
          "base_uri": "https://localhost:8080/",
          "height": 197
        },
        "outputId": "78a74ccd-b2cf-4f41-c8a4-390f2edf676c"
      },
      "source": [
        "a = 2+3j\n",
        "b = 4+5j\n",
        "print(a//b) \n",
        "# Floor of complex number is impossible."
      ],
      "execution_count": 2,
      "outputs": [
        {
          "output_type": "error",
          "ename": "TypeError",
          "evalue": "ignored",
          "traceback": [
            "\u001b[0;31m---------------------------------------------------------------------------\u001b[0m",
            "\u001b[0;31mTypeError\u001b[0m                                 Traceback (most recent call last)",
            "\u001b[0;32m<ipython-input-2-0d84bc4a342a>\u001b[0m in \u001b[0;36m<module>\u001b[0;34m()\u001b[0m\n\u001b[1;32m      1\u001b[0m \u001b[0ma\u001b[0m \u001b[0;34m=\u001b[0m \u001b[0;36m2\u001b[0m\u001b[0;34m+\u001b[0m\u001b[0;36m3j\u001b[0m\u001b[0;34m\u001b[0m\u001b[0;34m\u001b[0m\u001b[0m\n\u001b[1;32m      2\u001b[0m \u001b[0mb\u001b[0m \u001b[0;34m=\u001b[0m \u001b[0;36m4\u001b[0m\u001b[0;34m+\u001b[0m\u001b[0;36m5j\u001b[0m\u001b[0;34m\u001b[0m\u001b[0;34m\u001b[0m\u001b[0m\n\u001b[0;32m----> 3\u001b[0;31m \u001b[0mprint\u001b[0m\u001b[0;34m(\u001b[0m\u001b[0ma\u001b[0m\u001b[0;34m//\u001b[0m\u001b[0mb\u001b[0m\u001b[0;34m)\u001b[0m\u001b[0;34m\u001b[0m\u001b[0;34m\u001b[0m\u001b[0m\n\u001b[0m",
            "\u001b[0;31mTypeError\u001b[0m: can't take floor of complex number."
          ]
        }
      ]
    },
    {
      "cell_type": "code",
      "metadata": {
        "id": "j1u0M4b4A8om",
        "colab_type": "code",
        "colab": {
          "base_uri": "https://localhost:8080/",
          "height": 197
        },
        "outputId": "7823ef0a-3ab9-4fe4-b511-09bf57b78b4c"
      },
      "source": [
        "a = 2+3j\n",
        "b = 4+5j\n",
        "print(a%b)\n",
        "# Modulo of complex number is impossible."
      ],
      "execution_count": 3,
      "outputs": [
        {
          "output_type": "error",
          "ename": "TypeError",
          "evalue": "ignored",
          "traceback": [
            "\u001b[0;31m---------------------------------------------------------------------------\u001b[0m",
            "\u001b[0;31mTypeError\u001b[0m                                 Traceback (most recent call last)",
            "\u001b[0;32m<ipython-input-3-c17bc1d3ef1d>\u001b[0m in \u001b[0;36m<module>\u001b[0;34m()\u001b[0m\n\u001b[1;32m      1\u001b[0m \u001b[0ma\u001b[0m \u001b[0;34m=\u001b[0m \u001b[0;36m2\u001b[0m\u001b[0;34m+\u001b[0m\u001b[0;36m3j\u001b[0m\u001b[0;34m\u001b[0m\u001b[0;34m\u001b[0m\u001b[0m\n\u001b[1;32m      2\u001b[0m \u001b[0mb\u001b[0m \u001b[0;34m=\u001b[0m \u001b[0;36m4\u001b[0m\u001b[0;34m+\u001b[0m\u001b[0;36m5j\u001b[0m\u001b[0;34m\u001b[0m\u001b[0;34m\u001b[0m\u001b[0m\n\u001b[0;32m----> 3\u001b[0;31m \u001b[0mprint\u001b[0m\u001b[0;34m(\u001b[0m\u001b[0ma\u001b[0m\u001b[0;34m%\u001b[0m\u001b[0mb\u001b[0m\u001b[0;34m)\u001b[0m\u001b[0;34m\u001b[0m\u001b[0;34m\u001b[0m\u001b[0m\n\u001b[0m",
            "\u001b[0;31mTypeError\u001b[0m: can't mod complex numbers."
          ]
        }
      ]
    },
    {
      "cell_type": "markdown",
      "metadata": {
        "id": "DhlYBpDxBnUO",
        "colab_type": "text"
      },
      "source": [
        "Program 2"
      ]
    },
    {
      "cell_type": "markdown",
      "metadata": {
        "id": "pnU-09yaBwCN",
        "colab_type": "text"
      },
      "source": [
        "**`Range function is a function which gives out some list of elements or numbers as the output depending on the input given. These output numbers are limited because range functions gives out only a certain range of values depending on what input we are giving. It also gives numbers with a particular step-size.`**"
      ]
    },
    {
      "cell_type": "code",
      "metadata": {
        "id": "7Y9eSbRRCjVT",
        "colab_type": "code",
        "colab": {
          "base_uri": "https://localhost:8080/",
          "height": 102
        },
        "outputId": "2fd1606b-2693-4498-a43b-988b26711ea4"
      },
      "source": [
        "a = range(5)\n",
        "for i in a:\n",
        "  print(i)"
      ],
      "execution_count": 6,
      "outputs": [
        {
          "output_type": "stream",
          "text": [
            "0\n",
            "1\n",
            "2\n",
            "3\n",
            "4\n"
          ],
          "name": "stdout"
        }
      ]
    },
    {
      "cell_type": "code",
      "metadata": {
        "id": "722lH5RvC8Wb",
        "colab_type": "code",
        "colab": {
          "base_uri": "https://localhost:8080/",
          "height": 102
        },
        "outputId": "c0d9533d-d694-4c00-ee0a-30cfda94c8e6"
      },
      "source": [
        "b = range(1,11,2)\n",
        "for j in b:\n",
        "  print(j)"
      ],
      "execution_count": 7,
      "outputs": [
        {
          "output_type": "stream",
          "text": [
            "1\n",
            "3\n",
            "5\n",
            "7\n",
            "9\n"
          ],
          "name": "stdout"
        }
      ]
    },
    {
      "cell_type": "markdown",
      "metadata": {
        "id": "DLLqVKZjDEZL",
        "colab_type": "text"
      },
      "source": [
        "Program 3"
      ]
    },
    {
      "cell_type": "code",
      "metadata": {
        "id": "eKk-LApADFss",
        "colab_type": "code",
        "colab": {
          "base_uri": "https://localhost:8080/",
          "height": 34
        },
        "outputId": "8e0a24da-14f5-464c-edc4-032b4a80c84a"
      },
      "source": [
        "a = 34\n",
        "b = 7\n",
        "if a-b > 25:\n",
        "  print(a*b)\n",
        "else:\n",
        "  print(a/b)"
      ],
      "execution_count": 8,
      "outputs": [
        {
          "output_type": "stream",
          "text": [
            "238\n"
          ],
          "name": "stdout"
        }
      ]
    },
    {
      "cell_type": "markdown",
      "metadata": {
        "id": "cYxKfMxTDZ4r",
        "colab_type": "text"
      },
      "source": [
        "Program 4"
      ]
    },
    {
      "cell_type": "code",
      "metadata": {
        "id": "4ebqDcptDbDS",
        "colab_type": "code",
        "colab": {
          "base_uri": "https://localhost:8080/",
          "height": 102
        },
        "outputId": "1bc2c0b5-054c-4abb-a5db-d05c1f0c3f75"
      },
      "source": [
        "a = [1,2,3,4,5,6,7,8,9,10]\n",
        "for i in a:\n",
        "  if i%2 == 0:\n",
        "    print((i**2)-2)"
      ],
      "execution_count": 9,
      "outputs": [
        {
          "output_type": "stream",
          "text": [
            "2\n",
            "14\n",
            "34\n",
            "62\n",
            "98\n"
          ],
          "name": "stdout"
        }
      ]
    },
    {
      "cell_type": "markdown",
      "metadata": {
        "id": "Y1AU6wFIDxZR",
        "colab_type": "text"
      },
      "source": [
        "Program 5"
      ]
    },
    {
      "cell_type": "code",
      "metadata": {
        "id": "9vdD_z2FDyyV",
        "colab_type": "code",
        "colab": {
          "base_uri": "https://localhost:8080/",
          "height": 85
        },
        "outputId": "fe81882e-c9ce-45ee-d412-cd7b04698072"
      },
      "source": [
        "d = [9,10,11,12,13,14,15,16,17,18]\n",
        "for i in d:\n",
        "  if i/2 > 7:\n",
        "    print(i)\n"
      ],
      "execution_count": 15,
      "outputs": [
        {
          "output_type": "stream",
          "text": [
            "15\n",
            "16\n",
            "17\n",
            "18\n"
          ],
          "name": "stdout"
        }
      ]
    }
  ]
}