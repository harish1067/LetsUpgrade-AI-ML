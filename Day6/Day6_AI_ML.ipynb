{
  "nbformat": 4,
  "nbformat_minor": 0,
  "metadata": {
    "colab": {
      "name": "Day6 AI-ML.ipynb",
      "provenance": []
    },
    "kernelspec": {
      "name": "python3",
      "display_name": "Python 3"
    }
  },
  "cells": [
    {
      "cell_type": "markdown",
      "metadata": {
        "id": "KzRhMEN6Fd2H",
        "colab_type": "text"
      },
      "source": [
        "# Day 6 Assignment AI-ML"
      ]
    },
    {
      "cell_type": "markdown",
      "metadata": {
        "id": "Ql9OD4mIFlFD",
        "colab_type": "text"
      },
      "source": [
        "Question 1: Assuming that we have some email addresses in the \"username@companyname.com\" format, please write program\n",
        "to print the company name of a given email address. Both user names and company names are composed of letters\n",
        "only.\n",
        "Input Format:\n",
        "The first line of the input contains an email address.\n",
        "Output Format:\n",
        "Print the company name in single line.\n",
        "Example;\n",
        "Input:\n",
        "john@google.com\n",
        "Output:\n",
        "google"
      ]
    },
    {
      "cell_type": "code",
      "metadata": {
        "id": "vWDBrdgiFXt7",
        "colab_type": "code",
        "colab": {
          "base_uri": "https://localhost:8080/",
          "height": 51
        },
        "outputId": "68cd3a51-614c-4c8d-a57a-1f6d83552074"
      },
      "source": [
        "mail = input(\"Enter an E-mail:\")\n",
        "x = mail.index(\"@\")\n",
        "print(mail[x+1:len(mail)-4])"
      ],
      "execution_count": null,
      "outputs": [
        {
          "output_type": "stream",
          "text": [
            "Enter an E-mail:john@google.com\n",
            "google\n"
          ],
          "name": "stdout"
        }
      ]
    },
    {
      "cell_type": "markdown",
      "metadata": {
        "id": "iqxJRlHzGhii",
        "colab_type": "text"
      },
      "source": [
        "Question 2: Write a program that accepts a comma-separated sequence of words as input and prints the words in a comma\n",
        "separated sequence after sorting them alphabetically.\n",
        "Input Format:\n",
        "The first line of input contains words separated by the comma.\n",
        "Output Format:\n",
        "Print the sorted words separated by the comma.\n",
        "Example:\n",
        "Input:\n",
        "without,hello,bag,world\n",
        "Output:\n",
        "bag,hello,without,world"
      ]
    },
    {
      "cell_type": "code",
      "metadata": {
        "id": "0cYkrveNGoGp",
        "colab_type": "code",
        "colab": {
          "base_uri": "https://localhost:8080/",
          "height": 51
        },
        "outputId": "ecb9740c-c04c-4d33-de84-8c27e9eae1d2"
      },
      "source": [
        "text = input()\n",
        "x = text.split(\",\")\n",
        "x.sort()\n",
        "print(\",\".join(x))"
      ],
      "execution_count": null,
      "outputs": [
        {
          "output_type": "stream",
          "text": [
            "without,hello,bag,world\n",
            "bag,hello,without,world\n"
          ],
          "name": "stdout"
        }
      ]
    },
    {
      "cell_type": "markdown",
      "metadata": {
        "id": "kqj3b5faHd2c",
        "colab_type": "text"
      },
      "source": [
        "Question 3: Create your own Jupyter Notebook for Sets.\n",
        "Reference link: https://www.w3schools.com/python/python_sets.asp\n"
      ]
    },
    {
      "cell_type": "markdown",
      "metadata": {
        "id": "hhteRonuMAEC",
        "colab_type": "text"
      },
      "source": [
        "**`Sets is an unordered collection of object or elements. It is mutable that is, we can change the elements of the set. It does not consider the duplicate or repeated objects into account.`**"
      ]
    },
    {
      "cell_type": "code",
      "metadata": {
        "id": "8LByiFeXMsqP",
        "colab_type": "code",
        "colab": {
          "base_uri": "https://localhost:8080/",
          "height": 204
        },
        "outputId": "b683602c-2685-4847-cf10-7e9ba587c7a7"
      },
      "source": [
        "fruits = {\"apple\",\"banana\",\"mango\"}\n",
        "print(fruits)\n",
        "for i in fruits:\n",
        "  print(i)\n",
        "print(\"mango\" in fruits)\n",
        "fruits.add(\"orange\")\n",
        "print(fruits)\n",
        "fruits.update([\"cherry\", \"strawberry\", \"grapes\"])\n",
        "print(fruits)\n",
        "print(len(fruits))\n",
        "fruits.remove(\"cherry\")\n",
        "print(fruits)\n",
        "fruits.pop()\n",
        "print(fruits)\n",
        "fruits.clear()\n",
        "print(fruits)"
      ],
      "execution_count": null,
      "outputs": [
        {
          "output_type": "stream",
          "text": [
            "{'banana', 'mango', 'apple'}\n",
            "banana\n",
            "mango\n",
            "apple\n",
            "True\n",
            "{'orange', 'banana', 'mango', 'apple'}\n",
            "{'apple', 'banana', 'cherry', 'strawberry', 'orange', 'grapes', 'mango'}\n",
            "7\n",
            "{'apple', 'banana', 'strawberry', 'orange', 'grapes', 'mango'}\n",
            "{'banana', 'strawberry', 'orange', 'grapes', 'mango'}\n",
            "set()\n"
          ],
          "name": "stdout"
        }
      ]
    },
    {
      "cell_type": "code",
      "metadata": {
        "id": "HLO3gKKqO75K",
        "colab_type": "code",
        "colab": {
          "base_uri": "https://localhost:8080/",
          "height": 51
        },
        "outputId": "c1a19bd0-f33f-4175-95dd-9bec039a5098"
      },
      "source": [
        "set1 = {\"a\",\"b\",\"c\"}\n",
        "set2 = {1,2,3}\n",
        "set1.update(set2)\n",
        "print(set1)\n",
        "set3 = set1.union(set2)\n",
        "print(set3)"
      ],
      "execution_count": null,
      "outputs": [
        {
          "output_type": "stream",
          "text": [
            "{'b', 1, 2, 'c', 3, 'a'}\n",
            "{'b', 1, 2, 'c', 3, 'a'}\n"
          ],
          "name": "stdout"
        }
      ]
    },
    {
      "cell_type": "markdown",
      "metadata": {
        "id": "G7Cq6nf5HjTc",
        "colab_type": "text"
      },
      "source": [
        "Question 4: Given a list of n-1 numbers ranging from 1 to n, your task is to find the missing number. There are no duplicates.\n",
        "Input Format:\n",
        "The first line contains n-1 numbers with each number separated by a space.\n",
        "Output Format:\n",
        "Print the missing number\n",
        "Example:\n",
        "Input:1 2 4 6 3 7 8\n",
        "Output:5\n",
        "Explanation:\n",
        "In the above list of numbers 5 is missing and hence 5 is the input"
      ]
    },
    {
      "cell_type": "code",
      "metadata": {
        "id": "4cMj_It0HqWH",
        "colab_type": "code",
        "colab": {
          "base_uri": "https://localhost:8080/",
          "height": 51
        },
        "outputId": "970c10ab-918e-4445-f008-d920281b9f84"
      },
      "source": [
        "a = input(\"Enter elements of list separated by space:\")\n",
        "b = a.split()\n",
        "c = []\n",
        "for i in b:\n",
        "  d = int(i)\n",
        "  c.append(d)\n",
        "e = max(c)\n",
        "d = range(1,e+1)\n",
        "for i in d:\n",
        "  if i not in c:\n",
        "    print(i)\n",
        "  "
      ],
      "execution_count": null,
      "outputs": [
        {
          "output_type": "stream",
          "text": [
            "Enter elements of list separated by space:1 2 4 6 3 7 8\n",
            "5\n"
          ],
          "name": "stdout"
        }
      ]
    },
    {
      "cell_type": "markdown",
      "metadata": {
        "id": "coaNatScIgG_",
        "colab_type": "text"
      },
      "source": [
        "Question 5: With a given list L, write a program to print this list L after removing all duplicate values with original order reserved.\n",
        "Example:\n",
        "If the input list is\n",
        "12 24 35 24 88 120 155 88 120 155\n",
        "Then the output should be\n",
        "12 24 35 88 120 155\n",
        "Explanation:\n",
        "Third, seventh and ninth element of the list L has been removed because it was already present.\n",
        "Input Format:\n",
        "In one line take the elements of the list L with each element separated by a space.\n",
        "Output Format:\n",
        "Print the elements of the modified list in one line with each element separated by a space.\n",
        "Example:\n",
        "Input: 12 24 35 24\n",
        "Output:\n",
        "12 24 35"
      ]
    },
    {
      "cell_type": "code",
      "metadata": {
        "id": "a9F8EFP1Il9u",
        "colab_type": "code",
        "colab": {
          "base_uri": "https://localhost:8080/",
          "height": 51
        },
        "outputId": "c4d5b6c6-05b4-49cb-a9cd-96823f6c8803"
      },
      "source": [
        "a = input(\"Enter elements of list separated by space:\")\n",
        "b = a.split()\n",
        "c = []\n",
        "e = []\n",
        "for i in b:\n",
        "  if i not in c:\n",
        "    c.append(i)\n",
        "for i in c:\n",
        "  d = int(i)\n",
        "  e.append(d)\n",
        "for j in e:\n",
        "  print(j,end=\" \")"
      ],
      "execution_count": 53,
      "outputs": [
        {
          "output_type": "stream",
          "text": [
            "Enter elements of list separated by space:12 24 35 24 88 120 155 88 120 155\n",
            "12 24 35 88 120 155 "
          ],
          "name": "stdout"
        }
      ]
    }
  ]
}