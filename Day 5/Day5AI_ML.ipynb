{
  "nbformat": 4,
  "nbformat_minor": 0,
  "metadata": {
    "colab": {
      "name": "Day5AI-ML.ipynb",
      "provenance": []
    },
    "kernelspec": {
      "name": "python3",
      "display_name": "Python 3"
    }
  },
  "cells": [
    {
      "cell_type": "markdown",
      "metadata": {
        "id": "7G3P4OB-FTjf",
        "colab_type": "text"
      },
      "source": [
        "# Assignment Day 5 AI-ML"
      ]
    },
    {
      "cell_type": "markdown",
      "metadata": {
        "id": "KwSrpGuKFadV",
        "colab_type": "text"
      },
      "source": [
        "Program 1"
      ]
    },
    {
      "cell_type": "code",
      "metadata": {
        "id": "Ytg94E3UFSCm",
        "colab_type": "code",
        "colab": {
          "base_uri": "https://localhost:8080/",
          "height": 34
        },
        "outputId": "a4c5f626-69cf-47ed-d22e-f36254d762a4"
      },
      "source": [
        "a = []\n",
        "b = 3\n",
        "while len(a) < 20:\n",
        "  if (b%2) != 0:\n",
        "    for i in range(2,b):\n",
        "      if (b%i) != 0:\n",
        "        a.append(b)\n",
        "        break\n",
        "  b = b+1\n",
        "print(a)"
      ],
      "execution_count": null,
      "outputs": [
        {
          "output_type": "stream",
          "text": [
            "[3, 5, 7, 9, 11, 13, 15, 17, 19, 21, 23, 25, 27, 29, 31, 33, 35, 37, 39, 41]\n"
          ],
          "name": "stdout"
        }
      ]
    },
    {
      "cell_type": "markdown",
      "metadata": {
        "id": "S14fMw1YGOv8",
        "colab_type": "text"
      },
      "source": [
        "Program 2"
      ]
    },
    {
      "cell_type": "code",
      "metadata": {
        "id": "iW57TEdWGQU7",
        "colab_type": "code",
        "colab": {
          "base_uri": "https://localhost:8080/",
          "height": 238
        },
        "outputId": "81b84ab7-df01-4eca-f237-43edc1963a3b"
      },
      "source": [
        "a = 'hello'\n",
        "print(a)\n",
        "print(a[1])\n",
        "print(a[-1])\n",
        "print(a[1:4])\n",
        "b = 'random'\n",
        "print(a+b)\n",
        "print(a*3)\n",
        "print('h' in 'a')\n",
        "print(len(a))\n",
        "print(a.lower())\n",
        "print(a.upper())\n",
        "print(a.find('e'))\n",
        "print(a.split())\n",
        "print(a.replace('hello','home'))"
      ],
      "execution_count": null,
      "outputs": [
        {
          "output_type": "stream",
          "text": [
            "hello\n",
            "e\n",
            "o\n",
            "ell\n",
            "hellorandom\n",
            "hellohellohello\n",
            "False\n",
            "5\n",
            "hello\n",
            "HELLO\n",
            "1\n",
            "['hello']\n",
            "home\n"
          ],
          "name": "stdout"
        }
      ]
    },
    {
      "cell_type": "markdown",
      "metadata": {
        "id": "tUboaZANHwRq",
        "colab_type": "text"
      },
      "source": [
        "Program 3"
      ]
    },
    {
      "cell_type": "code",
      "metadata": {
        "id": "c4RLSaNvJHpV",
        "colab_type": "code",
        "colab": {}
      },
      "source": [
        ""
      ],
      "execution_count": null,
      "outputs": []
    },
    {
      "cell_type": "code",
      "metadata": {
        "id": "pbKMEs5tHxfC",
        "colab_type": "code",
        "colab": {
          "base_uri": "https://localhost:8080/",
          "height": 68
        },
        "outputId": "a8a65394-cc96-4f93-a069-5cad86629dac"
      },
      "source": [
        "a = input(\"Enter a string:\")\n",
        "b = input(\"Enter another string:\")\n",
        "if a == a[::-1]:\n",
        "  print(\"String is Palindrome.\")\n",
        "elif sorted(a) == sorted(b):\n",
        "  print(\"String is Anagram.\")\n",
        "else:\n",
        "  print(\"None of them\")"
      ],
      "execution_count": null,
      "outputs": [
        {
          "output_type": "stream",
          "text": [
            "Enter a string:listen\n",
            "Enter another string:silent\n",
            "String is Anagram.\n"
          ],
          "name": "stdout"
        }
      ]
    },
    {
      "cell_type": "markdown",
      "metadata": {
        "id": "l2ImlSWCUXeZ",
        "colab_type": "text"
      },
      "source": [
        "Program 4"
      ]
    },
    {
      "cell_type": "code",
      "metadata": {
        "id": "LGmJ0p65UY98",
        "colab_type": "code",
        "colab": {
          "base_uri": "https://localhost:8080/",
          "height": 51
        },
        "outputId": "4501bf65-35be-4374-9c17-a8476dcae955"
      },
      "source": [
        "string = input(\"Enter a string:\")\n",
        "alpha_num = filter(str.isalpha,string)\n",
        "alpha_join = \"\".join(alpha_num)\n",
        "print(alpha_join.lower())"
      ],
      "execution_count": 3,
      "outputs": [
        {
          "output_type": "stream",
          "text": [
            "Enter a string:Dr. Darshan Ingle@AI-ML Trainer \n",
            "drdarshaningleaimltrainer\n"
          ],
          "name": "stdout"
        }
      ]
    }
  ]
}